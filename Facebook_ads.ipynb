{
  "nbformat": 4,
  "nbformat_minor": 0,
  "metadata": {
    "colab": {
      "name": "Facebook_ads.ipynb",
      "provenance": [],
      "private_outputs": true,
      "collapsed_sections": []
    },
    "kernelspec": {
      "name": "python3",
      "display_name": "Python 3"
    }
  },
  "cells": [
    {
      "cell_type": "markdown",
      "metadata": {
        "id": "v_jD_fEhY3mO",
        "colab_type": "text"
      },
      "source": [
        "![alt text](data:image/png;base64,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)\n",
        "\n",
        "\n",
        "\n"
      ]
    },
    {
      "cell_type": "markdown",
      "metadata": {
        "id": "FkA7zec46Awb",
        "colab_type": "text"
      },
      "source": [
        "# Step 1: Load the dataset"
      ]
    },
    {
      "cell_type": "code",
      "metadata": {
        "id": "hht3mN8Icz0n",
        "colab_type": "code",
        "colab": {}
      },
      "source": [
        "from google.colab import files\n",
        "files.upload()"
      ],
      "execution_count": 0,
      "outputs": []
    },
    {
      "cell_type": "code",
      "metadata": {
        "id": "rc4lzK2Oc8Aq",
        "colab_type": "code",
        "colab": {}
      },
      "source": [
        "#We load the data\n",
        "import pandas as pd\n",
        "df = pd.read_csv('KAG_conversion_data.csv')\n",
        "df"
      ],
      "execution_count": 0,
      "outputs": []
    },
    {
      "cell_type": "code",
      "metadata": {
        "id": "Rm_5BU0pfj5l",
        "colab_type": "code",
        "colab": {}
      },
      "source": [
        "#Loading Liberary\n",
        "import numpy as np \n",
        "import pandas as pd \n",
        "import os\n",
        "import json\n",
        "import seaborn as sns \n",
        "import matplotlib.pyplot as plt\n",
        "%matplotlib inline\n",
        "plt.style.use('ggplot')"
      ],
      "execution_count": 0,
      "outputs": []
    },
    {
      "cell_type": "code",
      "metadata": {
        "id": "g6mzkXDlf2oS",
        "colab_type": "code",
        "colab": {}
      },
      "source": [
        "# Understand the datatype \n",
        "df.info()"
      ],
      "execution_count": 0,
      "outputs": []
    },
    {
      "cell_type": "code",
      "metadata": {
        "id": "bLXc9iM9f7dW",
        "colab_type": "code",
        "colab": {}
      },
      "source": [
        "# Get the summary statistic of the dataset\n",
        "df.describe()"
      ],
      "execution_count": 0,
      "outputs": []
    },
    {
      "cell_type": "code",
      "metadata": {
        "id": "z6OD_dx4dHkk",
        "colab_type": "code",
        "colab": {}
      },
      "source": [
        "# Check the unique values in the age column\n",
        "df['age'].unique()"
      ],
      "execution_count": 0,
      "outputs": []
    },
    {
      "cell_type": "code",
      "metadata": {
        "id": "DK1ibpymgJfF",
        "colab_type": "code",
        "colab": {}
      },
      "source": [
        "# Check the unique values of the xyz campaign\n",
        "df['xyz_campaign_id'].unique()"
      ],
      "execution_count": 0,
      "outputs": []
    },
    {
      "cell_type": "code",
      "metadata": {
        "id": "3EJOoPqOyaha",
        "colab_type": "code",
        "colab": {}
      },
      "source": [
        "# change the gender and age column to factor\n",
        "df['gender'] = df['gender'].astype('category')\n",
        "df['age'] = df['age'].astype('category')\n",
        "df.head(n=5)"
      ],
      "execution_count": 0,
      "outputs": []
    },
    {
      "cell_type": "markdown",
      "metadata": {
        "id": "u0KqpaxTz1yj",
        "colab_type": "text"
      },
      "source": [
        "# Step 2: Feature Engineering\n",
        "\n",
        "To get more insights from the data, I'll create facebook ad metrics to get a better understanding of how well the ads performed.\n",
        "\n",
        "Click-Through Rate (CTR)\n",
        "\n",
        "Clicks are defined as the number of times your ad is clicked on. The Click-through Rate metric provides you with the percentage of people who see your ad and click through to your website. The average CTR for Facebook Ads (across all industries) is 0.9%.\n",
        "\n",
        "Click Conversion (CC)\n",
        "\n",
        "Click Conversion: Calculated by taking the number of orders and dividing that by the number of total clicks that can be tracked to a conversion during the same time period.\n",
        "\n",
        "CPM and CPC\n",
        "\n",
        "These metrics, Cost per Thousand Impressions (CPM) and Cost per Click (CPC), help you to understand how efficient your ad spend is.\n",
        "\n",
        "CPM refers to the average cost for 1,000 impressions. CPM measures the total amount spent on an ad campaign, multiplied by 1,000 divided by impressions. "
      ]
    },
    {
      "cell_type": "code",
      "metadata": {
        "id": "h2R1MrhBzWbK",
        "colab_type": "code",
        "colab": {}
      },
      "source": [
        "# Feature engineering: Click-Through Rate (CTR)\n",
        "df['CTR']= df['Clicks']/df['Impressions']\n",
        "\n",
        "# Feature engineering: (CPC)\n",
        "df['CPC']= df['Spent'] /df['Clicks']\n",
        "\n",
        "# Feature engineering: Click Total Conversion (CTC)\n",
        "df['CTC']= df['Total_Conversion'] /df['Clicks']\n",
        "\n",
        "# Feature engineering: Click Approved Conversion (CAC)\n",
        "df['CAC']= df['Approved_Conversion'] /df['Clicks']\n",
        "\n",
        "# Feature engineering: cost per 1000 impressions(CPM)\n",
        "df['CPM']= df['Spent'] * 1000 /df['Impressions']\n",
        "\n",
        "# Remove Nan values from the dataset\n",
        "df['CTR'] = df['CTR'].fillna(0)\n",
        "df['CTC'] = df['CTC'].fillna(0)\n",
        "df['CAC'] = df['CAC'].fillna(0)\n",
        "df['CPM'] = df['CPM'].fillna(0)\n",
        "df['CPC'] = df['CPC'].fillna(0)\n",
        "df.head(n=6)"
      ],
      "execution_count": 0,
      "outputs": []
    },
    {
      "cell_type": "code",
      "metadata": {
        "id": "Wrsw9T3I3naB",
        "colab_type": "code",
        "colab": {}
      },
      "source": [
        "#Lets use the dataframe.round() function to round off all the decimal values in the dataframe to 3 decimal places.\n",
        "df.round(3) \n"
      ],
      "execution_count": 0,
      "outputs": []
    },
    {
      "cell_type": "markdown",
      "metadata": {
        "id": "S60YNgxj8-dO",
        "colab_type": "text"
      },
      "source": [
        ""
      ]
    },
    {
      "cell_type": "markdown",
      "metadata": {
        "id": "4g6pVqB-eMfJ",
        "colab_type": "text"
      },
      "source": [
        "Step 3: Data exploration"
      ]
    },
    {
      "cell_type": "code",
      "metadata": {
        "id": "rL4ZjlGIeQqM",
        "colab_type": "code",
        "colab": {}
      },
      "source": [
        "# libraries and data\n",
        "import matplotlib.pyplot as plt\n",
        "import numpy as np\n",
        "import seaborn as sns"
      ],
      "execution_count": 0,
      "outputs": []
    },
    {
      "cell_type": "code",
      "metadata": {
        "id": "ZVPbUgGuoTGy",
        "colab_type": "code",
        "colab": {}
      },
      "source": [
        "print('Total data rows: ' + format(df.shape[0], \",d\"))\n",
        "print('Distinct ad_id: ' + format(df['ad_id'].unique().shape[0], \",d\"))\n",
        "print('Distinct xyz_campaign_id: ' + format(df['xyz_campaign_id'].unique().shape[0], \",d\"))\n",
        "print('Distinct fb_campaign_id: ' + format(df['fb_campaign_id'].unique().shape[0], \",d\"))"
      ],
      "execution_count": 0,
      "outputs": []
    },
    {
      "cell_type": "code",
      "metadata": {
        "id": "sIVO1c-HpFLL",
        "colab_type": "code",
        "colab": {}
      },
      "source": [
        "# Distribution of gender \n",
        "df['gender'].value_counts()"
      ],
      "execution_count": 0,
      "outputs": []
    },
    {
      "cell_type": "code",
      "metadata": {
        "id": "1363B915pKTb",
        "colab_type": "code",
        "colab": {}
      },
      "source": [
        "# Piechart showing the gender distribution\n",
        "colors = ['lightcoral', 'lightskyblue']\n",
        "plt.pie([551, 592], explode = (0.1, 0), labels = ['Female', 'Male'], colors = colors, autopct='%1.1f%%') \n",
        "plt.title('Distribution of gender of the person to whom the ad is shown', fontsize=15)\n",
        "plt.gcf().set_size_inches(8, 8)\n",
        "plt.show()"
      ],
      "execution_count": 0,
      "outputs": []
    },
    {
      "cell_type": "markdown",
      "metadata": {
        "id": "jRSRrp4apy6e",
        "colab_type": "text"
      },
      "source": [
        "It can be seen that there is no significant difference in gender distribution for the ads"
      ]
    },
    {
      "cell_type": "code",
      "metadata": {
        "id": "oWdX4OH_pt8w",
        "colab_type": "code",
        "colab": {}
      },
      "source": [
        "# Analysis of age \n",
        "df['age'].value_counts() "
      ],
      "execution_count": 0,
      "outputs": []
    },
    {
      "cell_type": "code",
      "metadata": {
        "id": "Xgv5m0bXqjrA",
        "colab_type": "code",
        "colab": {}
      },
      "source": [
        "#Plot the data:\n",
        "my_c = list('rgbkymc')  #red, green, blue, black, etc.\n",
        "# the barchart\n",
        "cax = df['age'].value_counts().plot(kind='bar',\n",
        "                                    figsize=(14,8),\n",
        "                                    title=\"Number for each Owner Name\", color=my_c)\n",
        "cax.set_xlabel(\"Owner Names\")\n",
        "cax.set_ylabel(\"Frequency\")\n",
        "plt.show()"
      ],
      "execution_count": 0,
      "outputs": []
    },
    {
      "cell_type": "code",
      "metadata": {
        "id": "J4qrwSG3tLAL",
        "colab_type": "code",
        "colab": {}
      },
      "source": [
        "# using pivot \n",
        "pivot_df = pd.pivot_table(df, values='Clicks', \n",
        "                    index=['age'], \n",
        "                    columns='gender',\n",
        "                    aggfunc='count')\n",
        "pivot_df\n"
      ],
      "execution_count": 0,
      "outputs": []
    },
    {
      "cell_type": "code",
      "metadata": {
        "id": "E_PSdBX1Ek9W",
        "colab_type": "code",
        "colab": {}
      },
      "source": [
        "#Note: .loc[:,['F','M']] is used here to rearrange the layer ordering\n",
        "pivot_df.loc[:,['F','M']].plot.bar(stacked=True, color=colors, figsize=(10,7))"
      ],
      "execution_count": 0,
      "outputs": []
    },
    {
      "cell_type": "code",
      "metadata": {
        "id": "yPp0Bo5xE1_z",
        "colab_type": "code",
        "colab": {}
      },
      "source": [
        "# Analysis of xyz_campaign_id\n",
        "df['xyz_campaign_id'].value_counts() "
      ],
      "execution_count": 0,
      "outputs": []
    },
    {
      "cell_type": "code",
      "metadata": {
        "id": "by5BmT0vFVD7",
        "colab_type": "code",
        "colab": {}
      },
      "source": [
        "# Piechart showing the xyz_campaign_id distribution\n",
        "colors = ['lightcoral', 'lightskyblue','purple']\n",
        "plt.pie([625,464,54], explode = (0.1, 0,0.2), labels = ['1178','936','916'], colors = colors, autopct='%1.1f%%') \n",
        "plt.title('Distribution of xyz_campaign_id', fontsize=15)\n",
        "plt.gcf().set_size_inches(8, 8)\n",
        "plt.show()"
      ],
      "execution_count": 0,
      "outputs": []
    },
    {
      "cell_type": "code",
      "metadata": {
        "id": "wt3x5_mVF4-Q",
        "colab_type": "code",
        "colab": {}
      },
      "source": [
        "# using pivot \n",
        "pivot_dfx = pd.pivot_table(df, values='Clicks', \n",
        "                    index=['xyz_campaign_id'], \n",
        "                    columns='gender',\n",
        "                    aggfunc='count')\n",
        "pivot_dfx\n"
      ],
      "execution_count": 0,
      "outputs": []
    },
    {
      "cell_type": "code",
      "metadata": {
        "id": "e4937JNnGS6Y",
        "colab_type": "code",
        "colab": {}
      },
      "source": [
        "#Note: .loc[:,['F','M']] is used here to rearrange the layer ordering\n",
        "pivot_dfx.loc[:,['F','M']].plot.bar(stacked=True, color=colors, figsize=(10,7))"
      ],
      "execution_count": 0,
      "outputs": []
    },
    {
      "cell_type": "code",
      "metadata": {
        "id": "JWyHN9lHGHVY",
        "colab_type": "code",
        "colab": {}
      },
      "source": [
        "# using pivot \n",
        "pivot_dfxx = pd.pivot_table(df, values='Clicks', \n",
        "                    index=['xyz_campaign_id'], \n",
        "                    columns='age',\n",
        "                    aggfunc='count')\n",
        "pivot_dfxx"
      ],
      "execution_count": 0,
      "outputs": []
    },
    {
      "cell_type": "code",
      "metadata": {
        "id": "_daygS6kHFRJ",
        "colab_type": "code",
        "colab": {}
      },
      "source": [
        "#Note: .loc[:,['30-34','35-39','40-44','45-49']] is used here to rearrange the layer ordering\n",
        "pivot_dfxx.loc[:,['30-34','35-39','40-44','45-49']].plot.bar(stacked=True, color=colors, figsize=(10,7))"
      ],
      "execution_count": 0,
      "outputs": []
    },
    {
      "cell_type": "code",
      "metadata": {
        "id": "HOlNdVeqIIP2",
        "colab_type": "code",
        "colab": {}
      },
      "source": [
        ""
      ],
      "execution_count": 0,
      "outputs": []
    },
    {
      "cell_type": "code",
      "metadata": {
        "id": "7ogbV2uOHas5",
        "colab_type": "code",
        "colab": {}
      },
      "source": [
        "sns.boxplot(x='xyz_campaign_id', y='Spent', data=df)\n"
      ],
      "execution_count": 0,
      "outputs": []
    },
    {
      "cell_type": "code",
      "metadata": {
        "id": "pIGcZj1mK2HA",
        "colab_type": "code",
        "colab": {}
      },
      "source": [
        ""
      ],
      "execution_count": 0,
      "outputs": []
    }
  ]
}