{
  "nbformat": 4,
  "nbformat_minor": 0,
  "metadata": {
    "colab": {
      "name": "Facebook_ads.ipynb",
      "provenance": [],
      "private_outputs": true,
      "collapsed_sections": [],
      "include_colab_link": true
    },
    "kernelspec": {
      "name": "python3",
      "display_name": "Python 3"
    }
  },
  "cells": [
    {
      "cell_type": "markdown",
      "metadata": {
        "id": "view-in-github",
        "colab_type": "text"
      },
      "source": [
        "<a href=\"https://colab.research.google.com/github/DanielaOrovw/Social-media-ads/blob/master/Facebook_ads.ipynb\" target=\"_parent\"><img src=\"https://colab.research.google.com/assets/colab-badge.svg\" alt=\"Open In Colab\"/></a>"
      ]
    },
    {
      "cell_type": "markdown",
      "metadata": {
        "id": "gnUvOpAF2L-Q",
        "colab_type": "text"
      },
      "source": [
        "# ANALYSIS OF FACEBOOK ADS METRICS "
      ]
    },
    {
      "cell_type": "markdown",
      "metadata": {
        "id": "zYoWrKqg3SyZ",
        "colab_type": "text"
      },
      "source": [
        "Facebook is not just a social network that connects people with their friends, family and others who work, study and live around them. It also offers other features as well. This project is focused on advertising on Facebook which helps businesses meet new customers and stay in touch.\n",
        "\n",
        "Facebook users which cuts across various demographics and age groups, various individuals engage with the platform by liking ,pages, commenting on specific posts, reposting etc. Facebook builds a profile of that user based on who they are and what they're interested in. Facebook offers a two-sided media marketplace platform which consist of Facebook users (supply side) and advertisers (demand side).\n",
        "\n",
        "Advertisers can create Facebook adverts, then create an 'Audience' for that advert or group of adverts. Audiences can be built from a range of attributes including gender, age, location and interests. This specific targetting means advertisers can tailor content appropriately for a specific audience, even if the product being marketed is the same.\n",
        "\n",
        "In 2019, Facebook's revenue from advertising for quarter 3 was  17.3bn dollars, up from 13bn dollars in quarter 3 of 2018 recording a 28% year over year change. This compares to Google's 33.9bn dollars in quarter 3 of 2019, 824m dollars that twitter advertising made in Q3 2019 and $3.5bn made by Amazon advertising in Q3 2019. These figures indicates how big online advertising platform market is currently."
      ]
    },
    {
      "cell_type": "markdown",
      "metadata": {
        "id": "bBzhCs3Y8vPr",
        "colab_type": "text"
      },
      "source": [
        "### Understanding the dataset\n",
        "The dataset used for this analysis was obtained from Kaggle. Below are the descriptions of the variables.\n",
        "\n",
        "1.) ad_id: an unique ID for each ad.\n",
        "\n",
        "2.) xyz_campaign_id: an ID associated with each ad campaign of XYZ company.\n",
        "\n",
        "3.) fb_campaign_id: an ID associated with how Facebook tracks each campaign.\n",
        "\n",
        "4.) age: age of the person to whom the ad is shown.\n",
        "\n",
        "5.) gender: gender of the person to whim the add is shown\n",
        "\n",
        "6.) interest: a code specifying the category to which the person’s interest belongs (interests are as mentioned in the person’s Facebook public profile).\n",
        "\n",
        "7.) Impressions: the number of times the ad was shown.\n",
        "\n",
        "8.) Clicks: number of clicks on for that ad.\n",
        "\n",
        "9.) Spent: Amount paid by company xyz to Facebook, to show that ad.\n",
        "\n",
        "10.) Total conversion: Total number of people who enquired about the product after seeing the ad.\n",
        "\n",
        "11.) Approved conversion: Total number of people who bought the product after seeing the ad."
      ]
    },
    {
      "cell_type": "markdown",
      "metadata": {
        "id": "FkA7zec46Awb",
        "colab_type": "text"
      },
      "source": [
        "# Step 1: Load the dataset"
      ]
    },
    {
      "cell_type": "code",
      "metadata": {
        "id": "hht3mN8Icz0n",
        "colab_type": "code",
        "colab": {}
      },
      "source": [
        "from google.colab import files\n",
        "files.upload()"
      ],
      "execution_count": 0,
      "outputs": []
    },
    {
      "cell_type": "code",
      "metadata": {
        "id": "rc4lzK2Oc8Aq",
        "colab_type": "code",
        "colab": {}
      },
      "source": [
        "#We load the data\n",
        "import pandas as pd\n",
        "df = pd.read_csv('KAG_conversion_data.csv')\n",
        "df"
      ],
      "execution_count": 0,
      "outputs": []
    },
    {
      "cell_type": "code",
      "metadata": {
        "id": "Rm_5BU0pfj5l",
        "colab_type": "code",
        "colab": {}
      },
      "source": [
        "#Loading Liberary\n",
        "import numpy as np \n",
        "import pandas as pd \n",
        "import os\n",
        "import json\n",
        "import seaborn as sns \n",
        "import matplotlib.pyplot as plt\n",
        "%matplotlib inline\n",
        "plt.style.use('ggplot')"
      ],
      "execution_count": 0,
      "outputs": []
    },
    {
      "cell_type": "code",
      "metadata": {
        "id": "g6mzkXDlf2oS",
        "colab_type": "code",
        "colab": {}
      },
      "source": [
        "# Understand the datatype \n",
        "df.info()"
      ],
      "execution_count": 0,
      "outputs": []
    },
    {
      "cell_type": "code",
      "metadata": {
        "id": "bLXc9iM9f7dW",
        "colab_type": "code",
        "colab": {}
      },
      "source": [
        "# Get the summary statistic of the dataset\n",
        "df.describe()"
      ],
      "execution_count": 0,
      "outputs": []
    },
    {
      "cell_type": "code",
      "metadata": {
        "id": "z6OD_dx4dHkk",
        "colab_type": "code",
        "colab": {}
      },
      "source": [
        "# Check the unique values in the age column\n",
        "df['age'].unique()"
      ],
      "execution_count": 0,
      "outputs": []
    },
    {
      "cell_type": "code",
      "metadata": {
        "id": "DK1ibpymgJfF",
        "colab_type": "code",
        "colab": {}
      },
      "source": [
        "# Check the unique values of the xyz campaign\n",
        "df['xyz_campaign_id'].unique()"
      ],
      "execution_count": 0,
      "outputs": []
    },
    {
      "cell_type": "code",
      "metadata": {
        "id": "3EJOoPqOyaha",
        "colab_type": "code",
        "colab": {}
      },
      "source": [
        "# change the gender and age column to factor\n",
        "df['gender'] = df['gender'].astype('category')\n",
        "df['age'] = df['age'].astype('category')\n",
        "df.head(n=5)"
      ],
      "execution_count": 0,
      "outputs": []
    },
    {
      "cell_type": "markdown",
      "metadata": {
        "id": "u0KqpaxTz1yj",
        "colab_type": "text"
      },
      "source": [
        "# Step 2: Feature Engineering\n",
        "\n",
        "To get more insights from the data, I createD facebook ad metrics to get a better understanding of how well the ads performed.\n",
        "\n",
        "Click-Through Rate (CTR)\n",
        "\n",
        "Clicks are defined as the number of times your ad is clicked on. The Click-through Rate metric provides you with the percentage of people who see your ad and click through to your website. The average CTR for Facebook Ads (across all industries) is 0.9%.\n",
        "\n",
        "Click Conversion (CC)\n",
        "\n",
        "Click Conversion: Calculated by taking the number of orders and dividing that by the number of total clicks that can be tracked to a conversion during the same time period.\n",
        "\n",
        "CPM and CPC\n",
        "\n",
        "These metrics, Cost per Thousand Impressions (CPM) and Cost per Click (CPC), help you to understand how efficient your ad spend is. CPM refers to the average cost for 1,000 impressions. CPM measures the total amount spent on an ad campaign, multiplied by 1,000 divided by impressions. \n",
        "\n",
        "Cost Per Acquisition\n",
        "\n",
        "This metric is the total cost of acquiring a new customer via a specific channel or campaign. CPA focuses on the cost for the complete journey from first contact to customer.\n",
        "\n"
      ]
    },
    {
      "cell_type": "code",
      "metadata": {
        "id": "h2R1MrhBzWbK",
        "colab_type": "code",
        "colab": {}
      },
      "source": [
        "# Feature engineering: Click-Through Rate (CTR)\n",
        "df['CTR']= df['Clicks']/df['Impressions']\n",
        "\n",
        "# Feature engineering: Cost per acquisition (CPA)\n",
        "df['CPA']= df['Spent']/df['Approved_Conversion']\n",
        "\n",
        "# Feature engineering: (CPC)\n",
        "df['CPC']= df['Spent'] /df['Clicks']\n",
        "\n",
        "# Feature engineering: Click Total Conversion (CTC)\n",
        "df['CTC']= df['Total_Conversion'] /df['Clicks']\n",
        "\n",
        "# Feature engineering: Click Approved Conversion (CAC)\n",
        "df['CAC']= df['Approved_Conversion'] /df['Clicks']\n",
        "\n",
        "# Feature engineering: cost per 1000 impressions(CPM)\n",
        "df['CPM']= df['Spent'] * 1000 /df['Impressions']\n",
        "\n",
        "# Remove Nan values from the dataset\n",
        "df['CTR'] = df['CTR'].fillna(0)\n",
        "df['CPA'] = df['CPA'].fillna(0)\n",
        "df['CTC'] = df['CTC'].fillna(0)\n",
        "df['CAC'] = df['CAC'].fillna(0)\n",
        "df['CPM'] = df['CPM'].fillna(0)\n",
        "df['CPC'] = df['CPC'].fillna(0)\n",
        "df.head(n=6)"
      ],
      "execution_count": 0,
      "outputs": []
    },
    {
      "cell_type": "code",
      "metadata": {
        "id": "Wrsw9T3I3naB",
        "colab_type": "code",
        "colab": {}
      },
      "source": [
        "#Lets use the dataframe.round() function to round off all the decimal values in the dataframe to 3 decimal places.\n",
        "df.round(3) \n"
      ],
      "execution_count": 0,
      "outputs": []
    },
    {
      "cell_type": "markdown",
      "metadata": {
        "id": "4g6pVqB-eMfJ",
        "colab_type": "text"
      },
      "source": [
        "# Step 3: Data exploration"
      ]
    },
    {
      "cell_type": "code",
      "metadata": {
        "id": "rL4ZjlGIeQqM",
        "colab_type": "code",
        "colab": {}
      },
      "source": [
        "# libraries and data\n",
        "import matplotlib.pyplot as plt\n",
        "import numpy as np\n",
        "import seaborn as sns"
      ],
      "execution_count": 0,
      "outputs": []
    },
    {
      "cell_type": "code",
      "metadata": {
        "id": "ZVPbUgGuoTGy",
        "colab_type": "code",
        "colab": {}
      },
      "source": [
        "print('Total data rows: ' + format(df.shape[0], \",d\"))\n",
        "print('Distinct ad_id: ' + format(df['ad_id'].unique().shape[0], \",d\"))\n",
        "print('Distinct xyz_campaign_id: ' + format(df['xyz_campaign_id'].unique().shape[0], \",d\"))\n",
        "print('Distinct fb_campaign_id: ' + format(df['fb_campaign_id'].unique().shape[0], \",d\"))"
      ],
      "execution_count": 0,
      "outputs": []
    },
    {
      "cell_type": "code",
      "metadata": {
        "id": "sIVO1c-HpFLL",
        "colab_type": "code",
        "colab": {}
      },
      "source": [
        "# Distribution of gender \n",
        "df['gender'].value_counts()"
      ],
      "execution_count": 0,
      "outputs": []
    },
    {
      "cell_type": "code",
      "metadata": {
        "id": "1363B915pKTb",
        "colab_type": "code",
        "colab": {}
      },
      "source": [
        "# Piechart showing the gender distribution\n",
        "colors = ['lightcoral', 'lightskyblue']\n",
        "plt.pie([551, 592], explode = (0.1, 0), labels = ['Female', 'Male'], colors = colors, autopct='%1.1f%%') \n",
        "plt.title('Distribution of gender of the person to whom the ad is shown', fontsize=15)\n",
        "plt.gcf().set_size_inches(8, 8)\n",
        "plt.show()"
      ],
      "execution_count": 0,
      "outputs": []
    },
    {
      "cell_type": "markdown",
      "metadata": {
        "id": "jRSRrp4apy6e",
        "colab_type": "text"
      },
      "source": [
        "It can be seen that there is no significant difference in gender distribution for the ads"
      ]
    },
    {
      "cell_type": "code",
      "metadata": {
        "id": "oWdX4OH_pt8w",
        "colab_type": "code",
        "colab": {}
      },
      "source": [
        "# Analysis of age \n",
        "df['age'].value_counts() "
      ],
      "execution_count": 0,
      "outputs": []
    },
    {
      "cell_type": "code",
      "metadata": {
        "id": "Xgv5m0bXqjrA",
        "colab_type": "code",
        "colab": {}
      },
      "source": [
        "#Plot the data:\n",
        "my_c = list('rgbkymc')  #red, green, blue, black, etc.\n",
        "# the barchart\n",
        "cax = df['age'].value_counts().plot(kind='bar',\n",
        "                                    figsize=(14,8),\n",
        "                                    title=\"Number for each Owner Name\", color=my_c)\n",
        "cax.set_xlabel(\"Owner Names\")\n",
        "cax.set_ylabel(\"Frequency\")\n",
        "plt.show()"
      ],
      "execution_count": 0,
      "outputs": []
    },
    {
      "cell_type": "code",
      "metadata": {
        "id": "J4qrwSG3tLAL",
        "colab_type": "code",
        "colab": {}
      },
      "source": [
        "# using pivot \n",
        "pivot_df = pd.pivot_table(df, values='Clicks', \n",
        "                    index=['age'], \n",
        "                    columns='gender',\n",
        "                    aggfunc='count')\n",
        "pivot_df\n"
      ],
      "execution_count": 0,
      "outputs": []
    },
    {
      "cell_type": "code",
      "metadata": {
        "id": "E_PSdBX1Ek9W",
        "colab_type": "code",
        "colab": {}
      },
      "source": [
        "#Note: .loc[:,['F','M']] is used here to rearrange the layer ordering\n",
        "pivot_df.loc[:,['F','M']].plot.bar(stacked=True, color=colors, figsize=(10,7))"
      ],
      "execution_count": 0,
      "outputs": []
    },
    {
      "cell_type": "code",
      "metadata": {
        "id": "yPp0Bo5xE1_z",
        "colab_type": "code",
        "colab": {}
      },
      "source": [
        "# Analysis of xyz_campaign_id\n",
        "df['xyz_campaign_id'].value_counts() "
      ],
      "execution_count": 0,
      "outputs": []
    },
    {
      "cell_type": "code",
      "metadata": {
        "id": "by5BmT0vFVD7",
        "colab_type": "code",
        "colab": {}
      },
      "source": [
        "# Piechart showing the xyz_campaign_id distribution\n",
        "colors = ['lightcoral', 'lightskyblue','purple']\n",
        "plt.pie([625,464,54], explode = (0.1, 0,0.2), labels = ['1178','936','916'], colors = colors, autopct='%1.1f%%') \n",
        "plt.title('Distribution of xyz_campaign_id', fontsize=15)\n",
        "plt.gcf().set_size_inches(8, 8)\n",
        "plt.show()"
      ],
      "execution_count": 0,
      "outputs": []
    },
    {
      "cell_type": "code",
      "metadata": {
        "id": "wt3x5_mVF4-Q",
        "colab_type": "code",
        "colab": {}
      },
      "source": [
        "# using pivot \n",
        "pivot_dfx = pd.pivot_table(df, values='Clicks', \n",
        "                    index=['xyz_campaign_id'], \n",
        "                    columns='gender',\n",
        "                    aggfunc='count')\n",
        "pivot_dfx\n"
      ],
      "execution_count": 0,
      "outputs": []
    },
    {
      "cell_type": "code",
      "metadata": {
        "id": "e4937JNnGS6Y",
        "colab_type": "code",
        "colab": {}
      },
      "source": [
        "#Note: .loc[:,['F','M']] is used here to rearrange the layer ordering\n",
        "pivot_dfx.loc[:,['F','M']].plot.bar(stacked=True, color=colors, figsize=(10,7))"
      ],
      "execution_count": 0,
      "outputs": []
    },
    {
      "cell_type": "code",
      "metadata": {
        "id": "JWyHN9lHGHVY",
        "colab_type": "code",
        "colab": {}
      },
      "source": [
        "# using pivot \n",
        "pivot_dfxx = pd.pivot_table(df, values='Clicks', \n",
        "                    index=['xyz_campaign_id'], \n",
        "                    columns='age',\n",
        "                    aggfunc='count')\n",
        "pivot_dfxx"
      ],
      "execution_count": 0,
      "outputs": []
    },
    {
      "cell_type": "code",
      "metadata": {
        "id": "_daygS6kHFRJ",
        "colab_type": "code",
        "colab": {}
      },
      "source": [
        "#Note: .loc[:,['30-34','35-39','40-44','45-49']] is used here to rearrange the layer ordering\n",
        "pivot_dfxx.loc[:,['30-34','35-39','40-44','45-49']].plot.bar(stacked=True, color=colors, figsize=(10,7))"
      ],
      "execution_count": 0,
      "outputs": []
    },
    {
      "cell_type": "code",
      "metadata": {
        "id": "7ogbV2uOHas5",
        "colab_type": "code",
        "colab": {}
      },
      "source": [
        "sns.boxplot(x='xyz_campaign_id', y='Spent', data=df)\n"
      ],
      "execution_count": 0,
      "outputs": []
    },
    {
      "cell_type": "markdown",
      "metadata": {
        "id": "FVssmR3K-rQk",
        "colab_type": "text"
      },
      "source": [
        "Facebook adverts dataset can provide answers to various questions but it is important to the business to get answers that can improve the business performance. Various business have various metrics that are important to the organization. A company can be more focused on brand awareness or user engagement or conversion. Hence it is important to understand the company's needs and what value they hope to derive or metric to measure from the advertising campaign. This will ensure that conclusions from the analysis are relevant and actionable to the business. \n",
        "\n",
        "See the link to the interactive tableau dashboard \n",
        "https://public.tableau.com/profile/daniela.orovwiroro#!/vizhome/FACEBOOKADSDASHBOARD/FACEBOOKADSDASHBOARD\n",
        "\n"
      ]
    }
  ]
}